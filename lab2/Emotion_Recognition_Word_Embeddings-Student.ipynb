{
 "cells": [
  {
   "cell_type": "markdown",
   "metadata": {},
   "source": [
    "### Word Embeddings for Text Classification (Emotion Recognition)\n",
    "\n",
    "**Task:** Classify text data into different emotions using word embedding and other deep information retrieval approaches.\n",
    "\n",
    "**Github Repo:** [LINK](https://github.com/omarsar/data_mining_lab_fall_2)\n",
    "\n",
    "**Dataset: ** [SemEval 2017 Task](https://competitions.codalab.org/competitions/16380)"
   ]
  },
  {
   "cell_type": "markdown",
   "metadata": {},
   "source": [
    "---"
   ]
  },
  {
   "cell_type": "markdown",
   "metadata": {},
   "source": [
    "### Requirements:\n",
    "\n",
    "#### Software:\n",
    "------------------\n",
    "\n",
    "* Python 3 (coding will be done strictly using Python)\n",
    "* Anaconda Environment (recommended but not mandatory) (https://www.continuum.io/downloads)\n",
    "* Jupyter (http://jupyter.org/)\n",
    "* Google's word2vec (Download the file... warning! it is really huge)(https://drive.google.com/file/d/0B7XkCwpI5KDYNlNUTTlSS21pQmM/edit?usp=sharing)\n",
    "* Gensim (https://radimrehurek.com/gensim/)\n",
    "* Scikit Learn (http://scikit-learn.org/stable/) (get the latest version)\n",
    "* Pandas (http://pandas.pydata.org/)\n",
    "* Matplotlib (https://matplotlib.org/)\n",
    "* NLTK (for stopwords) (http://www.nltk.org/)\n",
    "\n",
    "#### Computing Resources:\n",
    "-------------------\n",
    "* Operating System: Preferably Linux or MacOS (Windows break but you can try it out)\n",
    "* RAM: 4GB \n",
    "* Disk Space: 8GB (mostly to store word embeddings)"
   ]
  },
  {
   "cell_type": "markdown",
   "metadata": {},
   "source": [
    "---"
   ]
  },
  {
   "cell_type": "code",
   "execution_count": 1,
   "metadata": {},
   "outputs": [],
   "source": [
    "%load_ext autoreload\n",
    "%autoreload 2"
   ]
  },
  {
   "cell_type": "code",
   "execution_count": 2,
   "metadata": {},
   "outputs": [
    {
     "name": "stderr",
     "output_type": "stream",
     "text": [
      "2018-05-30 16:53:10,022 : INFO : 'pattern' package not found; tag filters are not available for English\n",
      "/home/yenhao/anaconda3/lib/python3.6/site-packages/sklearn/cross_validation.py:41: DeprecationWarning: This module was deprecated in version 0.18 in favor of the model_selection module into which all the refactored classes and functions are moved. Also note that the interface of the new CV iterators are different from that of this module. This module will be removed in 0.20.\n",
      "  \"This module will be removed in 0.20.\", DeprecationWarning)\n"
     ]
    }
   ],
   "source": [
    "import logging\n",
    "logging.root.handlers = []  # Jupyter messes up logging so needs a reset\n",
    "logging.basicConfig(format='%(asctime)s : %(levelname)s : %(message)s', level=logging.INFO)\n",
    "from smart_open import smart_open\n",
    "import pandas as pd\n",
    "import numpy as np\n",
    "from numpy import random\n",
    "import gensim\n",
    "import nltk\n",
    "from sklearn.cross_validation import train_test_split\n",
    "from sklearn import linear_model\n",
    "from sklearn.feature_extraction.text import CountVectorizer, TfidfVectorizer\n",
    "from sklearn.metrics import accuracy_score, confusion_matrix\n",
    "import matplotlib.pyplot as plt\n",
    "from gensim.models import Word2Vec\n",
    "from sklearn.neighbors import KNeighborsClassifier\n",
    "from sklearn import linear_model\n",
    "from nltk.corpus import stopwords\n",
    "from helpers import *\n",
    "\n",
    "%matplotlib inline"
   ]
  },
  {
   "cell_type": "markdown",
   "metadata": {},
   "source": [
    "### Data Exploration"
   ]
  },
  {
   "cell_type": "code",
   "execution_count": 3,
   "metadata": {},
   "outputs": [],
   "source": [
    "### train data\n",
    "anger_train = pd.read_csv(\"data/semeval/train/anger-ratings-0to1.train.txt\",\n",
    "                         sep=\"\\t\", header=None, names=[\"id\", \"text\", \"emotion\", \"intensity\"])\n",
    "sadness_train = pd.read_csv(\"data/semeval/train/sadness-ratings-0to1.train.txt\",\n",
    "                         sep=\"\\t\", header=None, names=[\"id\", \"text\", \"emotion\", \"intensity\"])\n",
    "fear_train = pd.read_csv(\"data/semeval/train/fear-ratings-0to1.train.txt\",\n",
    "                         sep=\"\\t\", header=None, names=[\"id\", \"text\", \"emotion\", \"intensity\"])\n",
    "joy_train = pd.read_csv(\"data/semeval/train/joy-ratings-0to1.train.txt\",\n",
    "                         sep=\"\\t\", header=None, names=[\"id\", \"text\", \"emotion\", \"intensity\"])\n",
    "train_data = pd.concat([anger_train, fear_train, joy_train, sadness_train])\n",
    "\n",
    "### test data\n",
    "anger_test = pd.read_csv(\"data/semeval/dev/anger-ratings-0to1.dev.gold.txt\",\n",
    "                         sep=\"\\t\", header=None, names=[\"id\", \"text\", \"emotion\", \"intensity\"])\n",
    "sadness_test = pd.read_csv(\"data/semeval/dev/sadness-ratings-0to1.dev.gold.txt\",\n",
    "                         sep=\"\\t\", header=None, names=[\"id\", \"text\", \"emotion\", \"intensity\"])\n",
    "fear_test = pd.read_csv(\"data/semeval/dev/fear-ratings-0to1.dev.gold.txt\",\n",
    "                         sep=\"\\t\", header=None, names=[\"id\", \"text\", \"emotion\", \"intensity\"])\n",
    "joy_test = pd.read_csv(\"data/semeval/dev/joy-ratings-0to1.dev.gold.txt\",\n",
    "                         sep=\"\\t\", header=None, names=[\"id\", \"text\", \"emotion\", \"intensity\"])\n",
    "test_data = pd.concat([anger_test, fear_test, joy_test, sadness_test])"
   ]
  },
  {
   "cell_type": "code",
   "execution_count": 4,
   "metadata": {},
   "outputs": [],
   "source": [
    "# shuffle dataset\n",
    "train_data = train_data.sample(frac=1)\n",
    "test_data = test_data.sample(frac=1)"
   ]
  },
  {
   "cell_type": "code",
   "execution_count": 5,
   "metadata": {},
   "outputs": [
    {
     "data": {
      "text/html": [
       "<div>\n",
       "<style scoped>\n",
       "    .dataframe tbody tr th:only-of-type {\n",
       "        vertical-align: middle;\n",
       "    }\n",
       "\n",
       "    .dataframe tbody tr th {\n",
       "        vertical-align: top;\n",
       "    }\n",
       "\n",
       "    .dataframe thead th {\n",
       "        text-align: right;\n",
       "    }\n",
       "</style>\n",
       "<table border=\"1\" class=\"dataframe\">\n",
       "  <thead>\n",
       "    <tr style=\"text-align: right;\">\n",
       "      <th></th>\n",
       "      <th>id</th>\n",
       "      <th>text</th>\n",
       "      <th>emotion</th>\n",
       "      <th>intensity</th>\n",
       "    </tr>\n",
       "  </thead>\n",
       "  <tbody>\n",
       "    <tr>\n",
       "      <th>641</th>\n",
       "      <td>10641</td>\n",
       "      <td>you are an angry glass of vodka</td>\n",
       "      <td>anger</td>\n",
       "      <td>0.375</td>\n",
       "    </tr>\n",
       "    <tr>\n",
       "      <th>609</th>\n",
       "      <td>30609</td>\n",
       "      <td>@MerenthaProphet - the Hunter in this way, con...</td>\n",
       "      <td>joy</td>\n",
       "      <td>0.349</td>\n",
       "    </tr>\n",
       "    <tr>\n",
       "      <th>689</th>\n",
       "      <td>10689</td>\n",
       "      <td>my wasp sting is so itchy</td>\n",
       "      <td>anger</td>\n",
       "      <td>0.356</td>\n",
       "    </tr>\n",
       "    <tr>\n",
       "      <th>219</th>\n",
       "      <td>40219</td>\n",
       "      <td>@Theshadeshit91 \\nOh, I'm sorry about it, do n...</td>\n",
       "      <td>sadness</td>\n",
       "      <td>0.625</td>\n",
       "    </tr>\n",
       "    <tr>\n",
       "      <th>478</th>\n",
       "      <td>40478</td>\n",
       "      <td>Already plotting next steps if I get cut off b...</td>\n",
       "      <td>sadness</td>\n",
       "      <td>0.417</td>\n",
       "    </tr>\n",
       "    <tr>\n",
       "      <th>253</th>\n",
       "      <td>10253</td>\n",
       "      <td>I am just so bitter today 😐</td>\n",
       "      <td>anger</td>\n",
       "      <td>0.583</td>\n",
       "    </tr>\n",
       "    <tr>\n",
       "      <th>238</th>\n",
       "      <td>40238</td>\n",
       "      <td>When the sadness leaves you broken in your bed...</td>\n",
       "      <td>sadness</td>\n",
       "      <td>0.604</td>\n",
       "    </tr>\n",
       "    <tr>\n",
       "      <th>594</th>\n",
       "      <td>20594</td>\n",
       "      <td>#GADOT please put a left turn signal at Willia...</td>\n",
       "      <td>fear</td>\n",
       "      <td>0.479</td>\n",
       "    </tr>\n",
       "    <tr>\n",
       "      <th>204</th>\n",
       "      <td>20204</td>\n",
       "      <td>Even death is unreliable. Instead of zero it m...</td>\n",
       "      <td>fear</td>\n",
       "      <td>0.688</td>\n",
       "    </tr>\n",
       "    <tr>\n",
       "      <th>310</th>\n",
       "      <td>10310</td>\n",
       "      <td>@DouthatNYT @jbouie @DamonLinker Yes, it is ba...</td>\n",
       "      <td>anger</td>\n",
       "      <td>0.542</td>\n",
       "    </tr>\n",
       "  </tbody>\n",
       "</table>\n",
       "</div>"
      ],
      "text/plain": [
       "        id                                               text  emotion  \\\n",
       "641  10641                    you are an angry glass of vodka    anger   \n",
       "609  30609  @MerenthaProphet - the Hunter in this way, con...      joy   \n",
       "689  10689                          my wasp sting is so itchy    anger   \n",
       "219  40219  @Theshadeshit91 \\nOh, I'm sorry about it, do n...  sadness   \n",
       "478  40478  Already plotting next steps if I get cut off b...  sadness   \n",
       "253  10253                        I am just so bitter today 😐    anger   \n",
       "238  40238  When the sadness leaves you broken in your bed...  sadness   \n",
       "594  20594  #GADOT please put a left turn signal at Willia...     fear   \n",
       "204  20204  Even death is unreliable. Instead of zero it m...     fear   \n",
       "310  10310  @DouthatNYT @jbouie @DamonLinker Yes, it is ba...    anger   \n",
       "\n",
       "     intensity  \n",
       "641      0.375  \n",
       "609      0.349  \n",
       "689      0.356  \n",
       "219      0.625  \n",
       "478      0.417  \n",
       "253      0.583  \n",
       "238      0.604  \n",
       "594      0.479  \n",
       "204      0.688  \n",
       "310      0.542  "
      ]
     },
     "execution_count": 5,
     "metadata": {},
     "output_type": "execute_result"
    }
   ],
   "source": [
    "train_data.head(10)"
   ]
  },
  {
   "cell_type": "code",
   "execution_count": 7,
   "metadata": {},
   "outputs": [
    {
     "data": {
      "text/plain": [
       "58792"
      ]
     },
     "execution_count": 7,
     "metadata": {},
     "output_type": "execute_result"
    }
   ],
   "source": [
    "### Count the number of words in training dataset\n",
    "train_data['text'].apply(lambda x: len(x.split(' '))).sum()"
   ]
  },
  {
   "cell_type": "code",
   "execution_count": null,
   "metadata": {},
   "outputs": [],
   "source": [
    "my_tags = ['sadness', 'fear', 'joy', 'anger']"
   ]
  },
  {
   "cell_type": "markdown",
   "metadata": {},
   "source": [
    "**Note:** Usually at least 500K words are suggested to train a word2vec model, so performance may not be the best here."
   ]
  },
  {
   "cell_type": "markdown",
   "metadata": {},
   "source": [
    "**Exercise 1:** Plot word frequency in both train and test dataset. (Hint: refer to DM lab 1)"
   ]
  },
  {
   "cell_type": "code",
   "execution_count": 12,
   "metadata": {},
   "outputs": [
    {
     "data": {
      "text/plain": [
       "<matplotlib.axes._subplots.AxesSubplot at 0x7f342db0b9e8>"
      ]
     },
     "execution_count": 12,
     "metadata": {},
     "output_type": "execute_result"
    },
    {
     "data": {
      "image/png": "[encoded data removed]",
      "text/plain": [
       "<matplotlib.figure.Figure at 0x7f342da76278>"
      ]
     },
     "metadata": {},
     "output_type": "display_data"
    }
   ],
   "source": [
    "### classes / targets\n",
    "\n"
   ]
  },
  {
   "cell_type": "markdown",
   "metadata": {},
   "source": [
    "**Exercise:** Is this considered an imbalanced dataset? Try to perform some more data exploration and statistical inference as done in lab session 1. "
   ]
  },
  {
   "cell_type": "code",
   "execution_count": 13,
   "metadata": {},
   "outputs": [
    {
     "data": {
      "text/plain": [
       "<matplotlib.axes._subplots.AxesSubplot at 0x7f342db0b3c8>"
      ]
     },
     "execution_count": 13,
     "metadata": {},
     "output_type": "execute_result"
    },
    {
     "data": {
      "image/png": "[encoded data removed]",
      "text/plain": [
       "<matplotlib.figure.Figure at 0x7f342da6f518>"
      ]
     },
     "metadata": {},
     "output_type": "display_data"
    }
   ],
   "source": []
  },
  {
   "cell_type": "markdown",
   "metadata": {},
   "source": [
    "---\n",
    "### Train Naive Models (Baselines)\n",
    "- Bag of words\n",
    "- N-grams\n",
    "- TF-IDF"
   ]
  },
  {
   "cell_type": "markdown",
   "metadata": {},
   "source": [
    "#### Bag of Words\n",
    "Using scikit-learn CountVectorizer perform word frequency and use these as features to train a model."
   ]
  },
  {
   "cell_type": "code",
   "execution_count": 21,
   "metadata": {},
   "outputs": [],
   "source": [
    "# build analyzers\n",
    "count_vectorizer = CountVectorizer(\n",
    "    analyzer=\"word\", tokenizer=nltk.word_tokenize,\n",
    "    preprocessor=None, stop_words='english', max_features=3000) \n",
    "\n",
    "# apply analyzer\n",
    "train_data_features = count_vectorizer.fit_transform(train_data['text'])"
   ]
  },
  {
   "cell_type": "code",
   "execution_count": 22,
   "metadata": {},
   "outputs": [
    {
     "data": {
      "text/plain": [
       "array([[0, 0, 0, ..., 0, 0, 0],\n",
       "       [0, 0, 0, ..., 0, 0, 0],\n",
       "       [0, 0, 0, ..., 0, 0, 0],\n",
       "       ...,\n",
       "       [0, 2, 0, ..., 0, 0, 0],\n",
       "       [0, 0, 0, ..., 0, 0, 0],\n",
       "       [0, 0, 0, ..., 0, 0, 0]], dtype=int64)"
      ]
     },
     "execution_count": 22,
     "metadata": {},
     "output_type": "execute_result"
    }
   ],
   "source": [
    "train_data_features.toarray()"
   ]
  },
  {
   "cell_type": "code",
   "execution_count": 51,
   "metadata": {},
   "outputs": [
    {
     "data": {
      "text/plain": [
       "(3613, 4461)"
      ]
     },
     "execution_count": 51,
     "metadata": {},
     "output_type": "execute_result"
    }
   ],
   "source": [
    "train_data_features.shape"
   ]
  },
  {
   "cell_type": "code",
   "execution_count": 24,
   "metadata": {},
   "outputs": [],
   "source": [
    "logreg_model = linear_model.LogisticRegression()\n",
    "logreg_model = logreg_model.fit(train_data_features, train_data['emotion'])"
   ]
  },
  {
   "cell_type": "code",
   "execution_count": 25,
   "metadata": {},
   "outputs": [
    {
     "data": {
      "text/plain": [
       "['af',\n",
       " 'affair',\n",
       " 'affliction',\n",
       " 'afford',\n",
       " 'afraid',\n",
       " 'afternoon',\n",
       " 'age',\n",
       " 'agent',\n",
       " 'ages',\n",
       " 'aggravate']"
      ]
     },
     "execution_count": 25,
     "metadata": {},
     "output_type": "execute_result"
    }
   ],
   "source": [
    "# observe some features\n",
    "count_vectorizer.get_feature_names()[100:110]"
   ]
  },
  {
   "cell_type": "code",
   "execution_count": 31,
   "metadata": {},
   "outputs": [
    {
     "name": "stdout",
     "output_type": "stream",
     "text": [
      "accuracy 0.8328530259365994\n",
      "             precision    recall  f1-score   support\n",
      "\n",
      "    sadness       0.81      0.80      0.80        74\n",
      "       fear       0.79      0.86      0.82       110\n",
      "        joy       0.86      0.87      0.87        79\n",
      "      anger       0.90      0.79      0.84        84\n",
      "\n",
      "avg / total       0.84      0.83      0.83       347\n",
      "\n",
      "(row=expected, col=predicted)\n"
     ]
    },
    {
     "data": {
      "image/png": "[encoded data removed]",
      "text/plain": [
       "<matplotlib.figure.Figure at 0x7f3422f86898>"
      ]
     },
     "metadata": {},
     "output_type": "display_data"
    }
   ],
   "source": [
    "word_embeddings.predict(count_vectorizer, logreg_model, test_data, my_tags)"
   ]
  },
  {
   "cell_type": "code",
   "execution_count": 34,
   "metadata": {},
   "outputs": [],
   "source": [
    "# words for the emotion of anger\n",
    "anger_tag_id = word_embeddings.get_tag_index(my_tags, \"anger\") \n",
    "anger_words,c = word_embeddings.most_influential_words(logreg_model, count_vectorizer, \\\n",
    "                                                      anger_tag_id, 3000)\n",
    "anger_words = pd.DataFrame(anger_words)"
   ]
  },
  {
   "cell_type": "code",
   "execution_count": 36,
   "metadata": {},
   "outputs": [
    {
     "data": {
      "text/html": [
       "<div>\n",
       "<style scoped>\n",
       "    .dataframe tbody tr th:only-of-type {\n",
       "        vertical-align: middle;\n",
       "    }\n",
       "\n",
       "    .dataframe tbody tr th {\n",
       "        vertical-align: top;\n",
       "    }\n",
       "\n",
       "    .dataframe thead th {\n",
       "        text-align: right;\n",
       "    }\n",
       "</style>\n",
       "<table border=\"1\" class=\"dataframe\">\n",
       "  <thead>\n",
       "    <tr style=\"text-align: right;\">\n",
       "      <th></th>\n",
       "      <th>0</th>\n",
       "      <th>1</th>\n",
       "    </tr>\n",
       "  </thead>\n",
       "  <tbody>\n",
       "    <tr>\n",
       "      <th>0</th>\n",
       "      <td>sober</td>\n",
       "      <td>3.388334</td>\n",
       "    </tr>\n",
       "    <tr>\n",
       "      <th>1</th>\n",
       "      <td>blues</td>\n",
       "      <td>3.245943</td>\n",
       "    </tr>\n",
       "    <tr>\n",
       "      <th>2</th>\n",
       "      <td>dark</td>\n",
       "      <td>3.194703</td>\n",
       "    </tr>\n",
       "    <tr>\n",
       "      <th>3</th>\n",
       "      <td>depressing</td>\n",
       "      <td>3.184175</td>\n",
       "    </tr>\n",
       "    <tr>\n",
       "      <th>4</th>\n",
       "      <td>unhappy</td>\n",
       "      <td>3.152002</td>\n",
       "    </tr>\n",
       "    <tr>\n",
       "      <th>5</th>\n",
       "      <td>pine</td>\n",
       "      <td>2.976025</td>\n",
       "    </tr>\n",
       "    <tr>\n",
       "      <th>6</th>\n",
       "      <td>depression</td>\n",
       "      <td>2.966082</td>\n",
       "    </tr>\n",
       "    <tr>\n",
       "      <th>7</th>\n",
       "      <td>grim</td>\n",
       "      <td>2.956350</td>\n",
       "    </tr>\n",
       "    <tr>\n",
       "      <th>8</th>\n",
       "      <td>stayed</td>\n",
       "      <td>2.948975</td>\n",
       "    </tr>\n",
       "    <tr>\n",
       "      <th>9</th>\n",
       "      <td>dull</td>\n",
       "      <td>2.893230</td>\n",
       "    </tr>\n",
       "  </tbody>\n",
       "</table>\n",
       "</div>"
      ],
      "text/plain": [
       "            0         1\n",
       "0       sober  3.388334\n",
       "1       blues  3.245943\n",
       "2        dark  3.194703\n",
       "3  depressing  3.184175\n",
       "4     unhappy  3.152002\n",
       "5        pine  2.976025\n",
       "6  depression  2.966082\n",
       "7        grim  2.956350\n",
       "8      stayed  2.948975\n",
       "9        dull  2.893230"
      ]
     },
     "execution_count": 36,
     "metadata": {},
     "output_type": "execute_result"
    }
   ],
   "source": [
    "### please show the top 10 anger_words with pandas"
   ]
  },
  {
   "cell_type": "code",
   "execution_count": 37,
   "metadata": {},
   "outputs": [],
   "source": [
    "# words for the emotion of fear\n",
    "fear_tag_id = word_embeddings.get_tag_index(my_tags, \"fear\") \n",
    "fear_words, _ = word_embeddings.most_influential_words(logreg_model, count_vectorizer, \\\n",
    "                                                      fear_tag_id, 3000)\n",
    "fear_words = pd.DataFrame(fear_words)"
   ]
  },
  {
   "cell_type": "code",
   "execution_count": 38,
   "metadata": {},
   "outputs": [
    {
     "data": {
      "text/html": [
       "<div>\n",
       "<style scoped>\n",
       "    .dataframe tbody tr th:only-of-type {\n",
       "        vertical-align: middle;\n",
       "    }\n",
       "\n",
       "    .dataframe tbody tr th {\n",
       "        vertical-align: top;\n",
       "    }\n",
       "\n",
       "    .dataframe thead th {\n",
       "        text-align: right;\n",
       "    }\n",
       "</style>\n",
       "<table border=\"1\" class=\"dataframe\">\n",
       "  <thead>\n",
       "    <tr style=\"text-align: right;\">\n",
       "      <th></th>\n",
       "      <th>0</th>\n",
       "      <th>1</th>\n",
       "    </tr>\n",
       "  </thead>\n",
       "  <tbody>\n",
       "    <tr>\n",
       "      <th>0</th>\n",
       "      <td>nightmare</td>\n",
       "      <td>2.956962</td>\n",
       "    </tr>\n",
       "    <tr>\n",
       "      <th>1</th>\n",
       "      <td>terrorism</td>\n",
       "      <td>2.797461</td>\n",
       "    </tr>\n",
       "    <tr>\n",
       "      <th>2</th>\n",
       "      <td>bully</td>\n",
       "      <td>2.757404</td>\n",
       "    </tr>\n",
       "    <tr>\n",
       "      <th>3</th>\n",
       "      <td>horror</td>\n",
       "      <td>2.705798</td>\n",
       "    </tr>\n",
       "    <tr>\n",
       "      <th>4</th>\n",
       "      <td>nervous</td>\n",
       "      <td>2.680294</td>\n",
       "    </tr>\n",
       "    <tr>\n",
       "      <th>5</th>\n",
       "      <td>panic</td>\n",
       "      <td>2.654844</td>\n",
       "    </tr>\n",
       "    <tr>\n",
       "      <th>6</th>\n",
       "      <td>fear</td>\n",
       "      <td>2.629041</td>\n",
       "    </tr>\n",
       "    <tr>\n",
       "      <th>7</th>\n",
       "      <td>shy</td>\n",
       "      <td>2.552381</td>\n",
       "    </tr>\n",
       "    <tr>\n",
       "      <th>8</th>\n",
       "      <td>horrific</td>\n",
       "      <td>2.547847</td>\n",
       "    </tr>\n",
       "    <tr>\n",
       "      <th>9</th>\n",
       "      <td>horrible</td>\n",
       "      <td>2.546346</td>\n",
       "    </tr>\n",
       "  </tbody>\n",
       "</table>\n",
       "</div>"
      ],
      "text/plain": [
       "           0         1\n",
       "0  nightmare  2.956962\n",
       "1  terrorism  2.797461\n",
       "2      bully  2.757404\n",
       "3     horror  2.705798\n",
       "4    nervous  2.680294\n",
       "5      panic  2.654844\n",
       "6       fear  2.629041\n",
       "7        shy  2.552381\n",
       "8   horrific  2.547847\n",
       "9   horrible  2.546346"
      ]
     },
     "execution_count": 38,
     "metadata": {},
     "output_type": "execute_result"
    }
   ],
   "source": [
    "### please show the top 10 fear_words with pandas"
   ]
  },
  {
   "cell_type": "code",
   "execution_count": 41,
   "metadata": {},
   "outputs": [
    {
     "data": {
      "text/plain": [
       "[[['dreadful', 30],\n",
       "  ['idea', 141],\n",
       "  ['rich', 225],\n",
       "  ['room', 267],\n",
       "  ['penny', 285],\n",
       "  ['honestly', 312],\n",
       "  ['bake', 401],\n",
       "  ['starting', 403],\n",
       "  ['amateurs', 408],\n",
       "  ['going', 420]],\n",
       " 10]"
      ]
     },
     "execution_count": 41,
     "metadata": {},
     "output_type": "execute_result"
    }
   ],
   "source": [
    "# check overlap of words and their index\n",
    "word_embeddings.check_word_overlap(anger_words[:500][0], fear_words[:500][0])"
   ]
  },
  {
   "cell_type": "markdown",
   "metadata": {},
   "source": [
    "You may notice that even though the words overlap some of them are not even related to any of the emotions, therefore, we can improve this model. What would happen if we just remove the overlapping words?"
   ]
  },
  {
   "cell_type": "markdown",
   "metadata": {},
   "source": [
    "#### Character N-grams\n",
    "A character n-gram is a chunk of a document of length n. It is a poor man's tokenizer but sometimes works well. The parameter n depends on language and the corpus. We choose length between 3 and 6 characters and to only focus on 3k most popular ones. 3K is a fair comparison since the previous bag of words model was this size as well."
   ]
  },
  {
   "cell_type": "code",
   "execution_count": 42,
   "metadata": {},
   "outputs": [],
   "source": [
    "n_gram_vectorizer = CountVectorizer(\n",
    "    analyzer=\"char\",\n",
    "    ngram_range=([2,5]),\n",
    "    tokenizer=None,    \n",
    "    preprocessor=None,                               \n",
    "    max_features=3000) \n",
    "\n",
    "charn_model = linear_model.LogisticRegression()\n",
    "\n",
    "train_data_features = n_gram_vectorizer.fit_transform(train_data['text'])\n",
    "\n",
    "charn_model = charn_model.fit(train_data_features, train_data['emotion'])"
   ]
  },
  {
   "cell_type": "code",
   "execution_count": 43,
   "metadata": {},
   "outputs": [
    {
     "data": {
      "text/plain": [
       "[' bec',\n",
       " ' beca',\n",
       " ' bee',\n",
       " ' been',\n",
       " ' bei',\n",
       " ' bein',\n",
       " ' bet',\n",
       " ' bi',\n",
       " ' bl',\n",
       " ' bla']"
      ]
     },
     "execution_count": 43,
     "metadata": {},
     "output_type": "execute_result"
    }
   ],
   "source": [
    "### observe some features\n",
    "n_gram_vectorizer.get_feature_names()[100:110]"
   ]
  },
  {
   "cell_type": "code",
   "execution_count": 44,
   "metadata": {},
   "outputs": [
    {
     "name": "stdout",
     "output_type": "stream",
     "text": [
      "accuracy 0.6685878962536023\n",
      "             precision    recall  f1-score   support\n",
      "\n",
      "    sadness       0.62      0.72      0.66        74\n",
      "       fear       0.69      0.67      0.68       110\n",
      "        joy       0.74      0.61      0.67        79\n",
      "      anger       0.65      0.68      0.66        84\n",
      "\n",
      "avg / total       0.67      0.67      0.67       347\n",
      "\n",
      "(row=expected, col=predicted)\n"
     ]
    },
    {
     "data": {
      "image/png": "[encoded data removed]",
      "text/plain": [
       "<matplotlib.figure.Figure at 0x7f34220f9a90>"
      ]
     },
     "metadata": {},
     "output_type": "display_data"
    }
   ],
   "source": [
    "# try to call function yourself\n",
    "\n",
    "# word_embeddings.predict( <word vector> , <model to use> , test_data, my_tags)"
   ]
  },
  {
   "cell_type": "markdown",
   "metadata": {},
   "source": [
    "You can notice that the char n-gram model doesn't perform as well as the bag of words model."
   ]
  },
  {
   "cell_type": "markdown",
   "metadata": {},
   "source": [
    "**Exercise:** Try to improve the model by removing stopwords; or try other techniques you have learned so far."
   ]
  },
  {
   "cell_type": "code",
   "execution_count": 76,
   "metadata": {},
   "outputs": [
    {
     "name": "stdout",
     "output_type": "stream",
     "text": [
      "[nltk_data] Downloading package stopwords to /home/yenhao/nltk_data...\n",
      "[nltk_data]   Unzipping corpora/stopwords.zip.\n"
     ]
    },
    {
     "data": {
      "text/plain": [
       "True"
      ]
     },
     "execution_count": 76,
     "metadata": {},
     "output_type": "execute_result"
    }
   ],
   "source": [
    "from nltk.corpus import stopwords\n",
    "nltk.download('stopwords')"
   ]
  },
  {
   "cell_type": "code",
   "execution_count": 77,
   "metadata": {},
   "outputs": [
    {
     "data": {
      "text/plain": [
       "['i',\n",
       " 'me',\n",
       " 'my',\n",
       " 'myself',\n",
       " 'we',\n",
       " 'our',\n",
       " 'ours',\n",
       " 'ourselves',\n",
       " 'you',\n",
       " \"you're\",\n",
       " \"you've\",\n",
       " \"you'll\",\n",
       " \"you'd\",\n",
       " 'your',\n",
       " 'yours',\n",
       " 'yourself',\n",
       " 'yourselves',\n",
       " 'he',\n",
       " 'him',\n",
       " 'his',\n",
       " 'himself',\n",
       " 'she',\n",
       " \"she's\",\n",
       " 'her',\n",
       " 'hers',\n",
       " 'herself',\n",
       " 'it',\n",
       " \"it's\",\n",
       " 'its',\n",
       " 'itself',\n",
       " 'they',\n",
       " 'them',\n",
       " 'their',\n",
       " 'theirs',\n",
       " 'themselves',\n",
       " 'what',\n",
       " 'which',\n",
       " 'who',\n",
       " 'whom',\n",
       " 'this',\n",
       " 'that',\n",
       " \"that'll\",\n",
       " 'these',\n",
       " 'those',\n",
       " 'am',\n",
       " 'is',\n",
       " 'are',\n",
       " 'was',\n",
       " 'were',\n",
       " 'be',\n",
       " 'been',\n",
       " 'being',\n",
       " 'have',\n",
       " 'has',\n",
       " 'had',\n",
       " 'having',\n",
       " 'do',\n",
       " 'does',\n",
       " 'did',\n",
       " 'doing',\n",
       " 'a',\n",
       " 'an',\n",
       " 'the',\n",
       " 'and',\n",
       " 'but',\n",
       " 'if',\n",
       " 'or',\n",
       " 'because',\n",
       " 'as',\n",
       " 'until',\n",
       " 'while',\n",
       " 'of',\n",
       " 'at',\n",
       " 'by',\n",
       " 'for',\n",
       " 'with',\n",
       " 'about',\n",
       " 'against',\n",
       " 'between',\n",
       " 'into',\n",
       " 'through',\n",
       " 'during',\n",
       " 'before',\n",
       " 'after',\n",
       " 'above',\n",
       " 'below',\n",
       " 'to',\n",
       " 'from',\n",
       " 'up',\n",
       " 'down',\n",
       " 'in',\n",
       " 'out',\n",
       " 'on',\n",
       " 'off',\n",
       " 'over',\n",
       " 'under',\n",
       " 'again',\n",
       " 'further',\n",
       " 'then',\n",
       " 'once',\n",
       " 'here',\n",
       " 'there',\n",
       " 'when',\n",
       " 'where',\n",
       " 'why',\n",
       " 'how',\n",
       " 'all',\n",
       " 'any',\n",
       " 'both',\n",
       " 'each',\n",
       " 'few',\n",
       " 'more',\n",
       " 'most',\n",
       " 'other',\n",
       " 'some',\n",
       " 'such',\n",
       " 'no',\n",
       " 'nor',\n",
       " 'not',\n",
       " 'only',\n",
       " 'own',\n",
       " 'same',\n",
       " 'so',\n",
       " 'than',\n",
       " 'too',\n",
       " 'very',\n",
       " 's',\n",
       " 't',\n",
       " 'can',\n",
       " 'will',\n",
       " 'just',\n",
       " 'don',\n",
       " \"don't\",\n",
       " 'should',\n",
       " \"should've\",\n",
       " 'now',\n",
       " 'd',\n",
       " 'll',\n",
       " 'm',\n",
       " 'o',\n",
       " 're',\n",
       " 've',\n",
       " 'y',\n",
       " 'ain',\n",
       " 'aren',\n",
       " \"aren't\",\n",
       " 'couldn',\n",
       " \"couldn't\",\n",
       " 'didn',\n",
       " \"didn't\",\n",
       " 'doesn',\n",
       " \"doesn't\",\n",
       " 'hadn',\n",
       " \"hadn't\",\n",
       " 'hasn',\n",
       " \"hasn't\",\n",
       " 'haven',\n",
       " \"haven't\",\n",
       " 'isn',\n",
       " \"isn't\",\n",
       " 'ma',\n",
       " 'mightn',\n",
       " \"mightn't\",\n",
       " 'mustn',\n",
       " \"mustn't\",\n",
       " 'needn',\n",
       " \"needn't\",\n",
       " 'shan',\n",
       " \"shan't\",\n",
       " 'shouldn',\n",
       " \"shouldn't\",\n",
       " 'wasn',\n",
       " \"wasn't\",\n",
       " 'weren',\n",
       " \"weren't\",\n",
       " 'won',\n",
       " \"won't\",\n",
       " 'wouldn',\n",
       " \"wouldn't\"]"
      ]
     },
     "execution_count": 77,
     "metadata": {},
     "output_type": "execute_result"
    }
   ],
   "source": [
    "stops = stopwords.words(\"english\")\n",
    "stops"
   ]
  },
  {
   "cell_type": "code",
   "execution_count": null,
   "metadata": {},
   "outputs": [],
   "source": [
    "##"
   ]
  },
  {
   "cell_type": "markdown",
   "metadata": {},
   "source": [
    "#### TF-IDF\n",
    "Term Frequency - Inverse Document Frequency is useful to rank importance of words to documents"
   ]
  },
  {
   "cell_type": "code",
   "execution_count": 48,
   "metadata": {},
   "outputs": [],
   "source": [
    "tf_vect = TfidfVectorizer(\n",
    "    min_df=2, tokenizer=nltk.word_tokenize,\n",
    "    preprocessor=None, stop_words='english')\n",
    "train_data_features = tf_vect.fit_transform(train_data['text'])\n",
    "\n",
    "tfidf_model = linear_model.LogisticRegression()\n",
    "tfidf_model = tfidf_model.fit(train_data_features, train_data['emotion'])"
   ]
  },
  {
   "cell_type": "code",
   "execution_count": 49,
   "metadata": {},
   "outputs": [
    {
     "data": {
      "text/plain": [
       "['17',\n",
       " '18:41',\n",
       " '1nataliemaines',\n",
       " '1st',\n",
       " '2',\n",
       " '2-3',\n",
       " '20',\n",
       " '2014',\n",
       " '2015.',\n",
       " '2016']"
      ]
     },
     "execution_count": 49,
     "metadata": {},
     "output_type": "execute_result"
    }
   ],
   "source": [
    "tf_vect.get_feature_names()[100:110]"
   ]
  },
  {
   "cell_type": "code",
   "execution_count": 52,
   "metadata": {},
   "outputs": [
    {
     "data": {
      "text/plain": [
       "4461"
      ]
     },
     "execution_count": 52,
     "metadata": {},
     "output_type": "execute_result"
    }
   ],
   "source": [
    "len(tf_vect.get_feature_names())"
   ]
  },
  {
   "cell_type": "code",
   "execution_count": 50,
   "metadata": {},
   "outputs": [
    {
     "name": "stdout",
     "output_type": "stream",
     "text": [
      "accuracy 0.8328530259365994\n",
      "             precision    recall  f1-score   support\n",
      "\n",
      "    sadness       0.84      0.78      0.81        74\n",
      "       fear       0.76      0.90      0.82       110\n",
      "        joy       0.88      0.85      0.86        79\n",
      "      anger       0.92      0.77      0.84        84\n",
      "\n",
      "avg / total       0.84      0.83      0.83       347\n",
      "\n",
      "(row=expected, col=predicted)\n"
     ]
    },
    {
     "data": {
      "image/png": "[encoded data removed]",
      "text/plain": [
       "<matplotlib.figure.Figure at 0x7f34228c55f8>"
      ]
     },
     "metadata": {},
     "output_type": "display_data"
    }
   ],
   "source": [
    "# word_embeddings.predict( <word vector> , <model to use> , test_data, my_tags)"
   ]
  },
  {
   "cell_type": "markdown",
   "metadata": {},
   "source": [
    "Let us perform some further analysis on the TF-IDF model."
   ]
  },
  {
   "cell_type": "code",
   "execution_count": 54,
   "metadata": {},
   "outputs": [
    {
     "data": {
      "text/plain": [
       "[['lost', 4.511491619884623],\n",
       " ['sober', 4.012762033338391],\n",
       " ['unhappy', 3.8954486855452823],\n",
       " ['blues', 3.888394119260073],\n",
       " ['sad', 3.8770674655831403],\n",
       " ['depression', 3.851530051637746],\n",
       " ['dark', 3.7027735682178893],\n",
       " ['depressing', 3.6598840448874177],\n",
       " ['grim', 3.4834404011194606],\n",
       " ['sadness', 3.2004627783595576]]"
      ]
     },
     "execution_count": 54,
     "metadata": {},
     "output_type": "execute_result"
    }
   ],
   "source": [
    "# words for the anger emotion\n",
    "anger_tag_id = word_embeddings.get_tag_index(my_tags, \"anger\")\n",
    "anger_words,_ = word_embeddings.most_influential_words(tfidf_model, tf_vect, anger_tag_id, 3000)\n",
    "anger_words[0:10]"
   ]
  },
  {
   "cell_type": "code",
   "execution_count": 55,
   "metadata": {},
   "outputs": [
    {
     "data": {
      "text/plain": [
       "[['happy', 4.15683551210033],\n",
       " ['hilarious', 4.13688223955869],\n",
       " ['optimism', 4.068416654473367],\n",
       " ['glee', 3.7908770939426253],\n",
       " ['smile', 3.7361073851293476],\n",
       " ['elated', 3.2597119315979315],\n",
       " ['lively', 3.217856681470204],\n",
       " ['cheering', 3.2066275173559746],\n",
       " ['laughter', 3.099524605434967],\n",
       " ['animated', 3.014717990010928]]"
      ]
     },
     "execution_count": 55,
     "metadata": {},
     "output_type": "execute_result"
    }
   ],
   "source": [
    "# words for the joy\n",
    "\n"
   ]
  },
  {
   "cell_type": "markdown",
   "metadata": {},
   "source": [
    "**Exercise:** Head to scikit-learn webiste and learn how to use different parameters for the TF-IDF vectorizer, such as modifying the ngram_range. It might improve the performance of the classifier."
   ]
  },
  {
   "cell_type": "markdown",
   "metadata": {},
   "source": [
    "---"
   ]
  },
  {
   "cell_type": "markdown",
   "metadata": {},
   "source": [
    "### Averaging Word Vectors (word2vec model)\n",
    "\n",
    "**SOURCE:** https://code.google.com/archive/p/word2vec/\n",
    "\n",
    "First, we are going to use a pretrained model provided as open source by Google (word2vec)"
   ]
  },
  {
   "cell_type": "code",
   "execution_count": 57,
   "metadata": {},
   "outputs": [
    {
     "name": "stderr",
     "output_type": "stream",
     "text": [
      "2018-05-30 17:47:07,155 : INFO : loading projection weights from data/word2vec/GoogleNews-vectors-negative300.bin\n",
      "2018-05-30 17:47:47,233 : INFO : loaded (3000000, 300) matrix from data/word2vec/GoogleNews-vectors-negative300.bin\n",
      "2018-05-30 17:47:47,234 : INFO : precomputing L2-norms of word weight vectors\n"
     ]
    }
   ],
   "source": [
    "wv = gensim.models.KeyedVectors.load_word2vec_format(\n",
    "    \"data/word2vec/GoogleNews-vectors-negative300.bin\",\n",
    "    binary=True)\n",
    "wv.init_sims(replace=True)"
   ]
  },
  {
   "cell_type": "markdown",
   "metadata": {},
   "source": [
    "**Pre-processing** Here we tokenize both the training and testing datasets before creating the vectors with word2vec. Think of this as a filtering step. In this case words with len(word)<2 are removed."
   ]
  },
  {
   "cell_type": "code",
   "execution_count": 58,
   "metadata": {},
   "outputs": [],
   "source": [
    "test_tokenized = test_data.apply(lambda r: word2vec_helpers.w2v_tokenize_text(r['text']), axis=1).values\n",
    "train_tokenized = train_data.apply(lambda r: word2vec_helpers.w2v_tokenize_text(r['text']), axis=1).values"
   ]
  },
  {
   "cell_type": "code",
   "execution_count": 59,
   "metadata": {},
   "outputs": [
    {
     "data": {
      "text/plain": [
       "array([list(['The', 'Apocalypse', 'has', 'hit', 'our', 'gym', 'and', 'it', \"'s\", 'nothing', 'what', 'thought', 'it', 'would', 'be', '...', '\\\\n\\\\nEveryone', 'is', 'wearing', 'vests', 'What', 'if', 'it', \"'s\", 'contagious']),\n",
       "       list(['TrueAggieFan', 'oh', 'so', 'that', \"'s\", 'where', 'Brian', 'was', 'Where', 'was', 'my', 'invite']),\n",
       "       list(['was', 'so', 'embarrassed', 'when', 'she', 'saw', 'us', 'was', 'like', 'knvfkkjg', 'she', 'thinks', 'we', \"'re\", 'stalkers', 'then', 'she', 'starts', 'waving', 'all', 'cheerfully', 'inviting', 'us', 'in']),\n",
       "       list(['hesham786', 'that', \"'s\", 'the', 'spirit']),\n",
       "       list(['Nothing', 'worse', 'than', 'an', 'uber', 'driver', 'that', 'ca', \"n't\", 'drive', 'awful']),\n",
       "       list(['If', 'my', 'concerns', 'amp', 'anxiety', 'do', \"n't\", 'matter', 'to', 'you', 'then', 'shall', 'return', 'the', 'favor', 'EyeMatter']),\n",
       "       list(['It', 'feels', 'good', 'to', 'get', 'outside', 'for', 'minute', 'and', 'get', 'some', 'fresh', 'air', 'It', \"'s\", 'hard', 'to', 'stay', 'cooped', 'up', 'inside', 'all', 'day']),\n",
       "       list(['Whatt', 'trailerrrr', 'karanjohar', 'AnushkaSharma', 'RanbirKapoor', 'AishwaryaRaiBachchan', 'am', 'COMPLETELY', 'BLOWN', 'awestruck', 'longingformore']),\n",
       "       list(['watching', 'this', 'uni', 'reveal', 'is', 'so', 'depressing', 'miss', 'stingrays']),\n",
       "       list(['huwellwell', 'One', 'chosen', 'by', 'the', 'CLP', 'members', 'MP', 'seats', 'are', 'not', 'for', 'people', 'to', 'dole', 'out', 'to', 'their', 'mates', 'we', 'elect', 'candidates', 'fuming'])],\n",
       "      dtype=object)"
      ]
     },
     "execution_count": 59,
     "metadata": {},
     "output_type": "execute_result"
    }
   ],
   "source": [
    "test_tokenized[0:10]"
   ]
  },
  {
   "cell_type": "markdown",
   "metadata": {},
   "source": [
    "Next, we have to convert the words into a distributed representation (in other words, each token must be converted into its vector representation obtained from word2vec). Since we are using a pretrained word2vec the conversion can be done easily. \n",
    "\n",
    "Now that we have the word embeddings, we can obtain vectors for an entire document, by averaging word vectors. (Warning: very naive approach!)"
   ]
  },
  {
   "cell_type": "markdown",
   "metadata": {},
   "source": [
    "![alt txt](https://docs.google.com/drawings/d/1m1Uod7QU4iSN7J3iqsTU6JRWdGTEJRZ2dA7rZrgNHgA/pub?w=942&h=375)"
   ]
  },
  {
   "cell_type": "code",
   "execution_count": 60,
   "metadata": {},
   "outputs": [],
   "source": [
    "### Here we average the word vectors\n",
    "X_train_word_average = word2vec_helpers.word_averaging_list(wv,train_tokenized)\n",
    "X_test_word_average = word2vec_helpers.word_averaging_list(wv,test_tokenized)"
   ]
  },
  {
   "cell_type": "code",
   "execution_count": 61,
   "metadata": {},
   "outputs": [
    {
     "data": {
      "text/plain": [
       "array([ 3.02798562e-02,  3.68109718e-02,  3.50996591e-02,  7.54238516e-02,\n",
       "       -1.19064286e-01,  8.19980130e-02,  9.73543674e-02, -6.60392046e-02,\n",
       "        7.97659829e-02,  1.05960794e-01, -4.43814322e-02, -1.11333773e-01,\n",
       "       -2.96631008e-02,  1.09618371e-02, -8.55562985e-02,  9.88600217e-03,\n",
       "       -2.49287151e-02,  9.18447301e-02,  3.19709233e-03, -4.99994718e-02,\n",
       "        6.29337355e-02,  2.95974724e-02,  8.36775899e-02, -4.24984023e-02,\n",
       "        1.46626784e-02,  7.54650384e-02, -6.38577566e-02,  1.18731797e-01,\n",
       "        5.64965196e-02, -6.21382380e-03, -1.15504330e-02,  1.50949415e-03,\n",
       "       -6.65304512e-02, -4.71611129e-04,  3.91950179e-03, -5.64538874e-02,\n",
       "        1.74310878e-02,  3.11227515e-02, -3.00099757e-02,  4.53864187e-02,\n",
       "        3.95049714e-02, -6.03929088e-02,  1.12549201e-01, -3.41478623e-02,\n",
       "        2.78025381e-02, -4.66930270e-02, -3.56613919e-02, -8.83906707e-03,\n",
       "        1.60471932e-03, -5.65421917e-02, -4.20077741e-02,  8.98842365e-02,\n",
       "       -2.12527663e-02, -2.29688035e-03, -1.21714771e-02,  1.68762207e-02,\n",
       "        4.62519079e-02, -1.50658796e-02, -1.79897361e-02, -4.62254733e-02,\n",
       "       -6.51374310e-02,  4.18647341e-02, -8.31519663e-02, -1.77880973e-02,\n",
       "       -2.51211487e-02,  1.98198278e-02,  5.31142354e-02, -3.51517200e-02,\n",
       "       -3.84291224e-02,  2.67372052e-05,  3.36924046e-02,  1.68836508e-02,\n",
       "        1.18467189e-01, -4.32917252e-02, -1.72618836e-01, -2.53282990e-02,\n",
       "        2.91777477e-02,  8.64811093e-02,  6.19010217e-02,  9.25458223e-02,\n",
       "       -1.50464363e-02, -1.19082838e-01,  3.93566070e-03, -2.25855317e-02,\n",
       "       -1.52716343e-03, -4.24082857e-03, -5.56628890e-02,  1.30259395e-01,\n",
       "        5.30248918e-02, -1.52316419e-02, -8.67902637e-02,  7.94310346e-02,\n",
       "       -5.46168052e-02, -1.00310206e-01, -2.39550881e-02,  3.54256155e-03,\n",
       "        3.93237248e-02, -7.09692715e-04,  4.64577861e-02,  1.76800434e-02,\n",
       "        1.40284607e-03, -2.92831641e-02, -2.23532803e-02,  5.35689741e-02,\n",
       "        1.94926877e-02, -4.52673696e-02,  7.84502327e-02, -1.64870135e-02,\n",
       "       -1.02907477e-03, -1.11328863e-01, -3.13725583e-02, -5.95671013e-02,\n",
       "       -2.60116775e-02, -2.45599430e-02, -4.01463956e-02, -5.84454695e-03,\n",
       "        2.22241767e-02, -1.22466676e-01,  1.08163841e-01,  6.39662333e-03,\n",
       "       -5.80837093e-02,  1.62992291e-02, -6.90266564e-02,  2.95966468e-03,\n",
       "        4.68469374e-02,  3.24698351e-02, -2.74971873e-02, -3.43369730e-02,\n",
       "        9.91272703e-02,  4.53653149e-02, -8.70489404e-02,  2.95897238e-02,\n",
       "       -6.63215965e-02,  3.88591848e-02,  4.28619385e-02,  3.10065486e-02,\n",
       "        6.61825985e-02, -1.43567976e-02, -3.50710610e-03,  9.44897234e-02,\n",
       "        2.67827529e-02, -2.29407893e-03,  2.91492157e-02, -3.56148481e-02,\n",
       "        1.68646295e-02,  2.45524831e-02,  3.05710752e-02, -4.12390083e-02,\n",
       "       -1.74875334e-02, -2.38231194e-04,  9.81745943e-02,  6.54395595e-02,\n",
       "       -4.45679650e-02,  2.07408965e-02,  1.10205803e-02,  5.34029528e-02,\n",
       "       -5.32831661e-02, -1.12332709e-01, -5.73154390e-02,  6.20166361e-02,\n",
       "       -8.48061144e-02,  9.72720757e-02, -3.35408375e-02,  8.99651200e-02,\n",
       "        3.39495614e-02, -8.71868059e-02,  6.04151376e-02, -3.66227888e-02,\n",
       "        2.35828012e-02,  3.38767245e-02, -1.80502653e-01, -7.61465430e-02,\n",
       "        2.57542502e-04, -7.95464516e-02, -5.22157475e-02, -7.71431029e-02,\n",
       "       -1.08922468e-02, -1.98954996e-02, -7.75500014e-02,  4.03257422e-02,\n",
       "        1.87100302e-02, -2.09817756e-02, -3.62616591e-02,  3.20271328e-02,\n",
       "       -1.99055783e-02,  2.03212220e-02, -1.84463374e-02,  5.93150407e-02,\n",
       "        5.72698750e-02, -2.50943583e-02, -1.10805698e-03,  1.36271529e-02,\n",
       "       -1.39532816e-02,  5.17417006e-02, -7.16905221e-02,  9.95744467e-02,\n",
       "       -1.78967277e-03, -6.59564957e-02, -8.11593905e-02, -3.22396494e-02,\n",
       "       -7.63833243e-03,  7.82113299e-02, -5.64103201e-02,  3.65986861e-02,\n",
       "       -1.62456594e-02,  3.81073095e-02, -1.80592518e-02, -6.97337184e-03,\n",
       "       -3.70684117e-02, -4.19392698e-02, -6.46948516e-02,  3.22504528e-02,\n",
       "        5.79326972e-02,  2.69464008e-03, -1.07356690e-01,  3.37716192e-02,\n",
       "        3.91753726e-02,  2.78389715e-02, -8.26208442e-02,  4.50406931e-02,\n",
       "       -4.41212254e-03, -8.71447548e-02, -8.75116661e-02, -4.04739305e-02,\n",
       "        1.52068034e-01,  2.87087038e-02,  4.67732027e-02,  3.49960551e-02,\n",
       "       -1.93514042e-02,  3.30244079e-02, -6.40165359e-02, -2.95546763e-02,\n",
       "       -2.11929586e-02,  1.04355261e-01,  2.12864690e-02, -1.36448085e-01,\n",
       "       -4.66426276e-02, -3.94210890e-02,  7.04955757e-02, -3.35993282e-02,\n",
       "        7.63519704e-02,  1.01687284e-02, -1.38998097e-02, -2.67690253e-02,\n",
       "        2.49522626e-02,  3.14415395e-02,  2.13353802e-02,  1.04159072e-01,\n",
       "       -3.57487500e-02, -4.53393757e-02,  5.61340041e-02, -4.07282673e-02,\n",
       "        1.51899606e-01,  5.54244481e-02, -7.00845430e-03, -1.94977168e-02,\n",
       "        5.77605441e-02, -1.25945359e-02, -5.51891886e-03, -1.35110077e-02,\n",
       "        1.85160171e-02, -6.13043271e-02, -1.11412942e-01,  6.59769028e-02,\n",
       "       -1.73514953e-03,  1.18188329e-01,  9.01994482e-03, -1.53964451e-02,\n",
       "       -9.61407274e-02,  1.49157932e-02,  5.55547746e-03,  1.51338398e-01,\n",
       "        9.43769142e-02,  1.33047014e-01,  6.23473898e-02,  3.74577045e-02,\n",
       "       -3.58062088e-02, -8.26939195e-02, -6.07454702e-02,  5.96067272e-02,\n",
       "       -7.12313806e-04, -5.96792921e-02,  3.91603112e-02, -7.94215593e-03,\n",
       "        3.00444872e-03,  3.33790034e-02, -6.63669631e-02, -2.10795067e-02,\n",
       "        4.06133663e-03,  5.26024401e-02,  2.32282653e-02, -7.12792054e-02,\n",
       "       -3.18410024e-02,  2.05971524e-02,  4.28021606e-03, -1.11875767e-02,\n",
       "        4.79718558e-02,  6.18620263e-03,  7.67626911e-02, -5.24224853e-03],\n",
       "      dtype=float32)"
      ]
     },
     "execution_count": 61,
     "metadata": {},
     "output_type": "execute_result"
    }
   ],
   "source": [
    "X_train_word_average[0]"
   ]
  },
  {
   "cell_type": "markdown",
   "metadata": {},
   "source": [
    "**Further exploration of word2vec generated vectors**\n",
    "\n",
    "Some tips here: https://radimrehurek.com/gensim/models/keyedvectors.html"
   ]
  },
  {
   "cell_type": "code",
   "execution_count": 64,
   "metadata": {},
   "outputs": [
    {
     "data": {
      "text/plain": [
       "array([ 7.44407773e-02,  5.99248260e-02, -1.14452699e-02, -9.60286036e-02,\n",
       "       -6.58800900e-02,  8.22570622e-02,  3.55454721e-02, -1.34923914e-02,\n",
       "        6.36468679e-02,  9.82618257e-02, -4.52227741e-02, -9.44467355e-03,\n",
       "       -3.59176770e-02,  4.80143018e-02, -3.16373296e-02,  5.06197289e-02,\n",
       "        7.18353540e-02,  1.92615520e-02,  2.38210484e-02, -8.88636801e-03,\n",
       "       -2.18669791e-02,  8.93289372e-02,  1.46090025e-02,  1.07008619e-02,\n",
       "        1.19105242e-01,  4.76420969e-02,  7.58365449e-03,  1.37715442e-02,\n",
       "        9.04455483e-02, -5.84360100e-02,  6.21580519e-02, -3.23817395e-02,\n",
       "        5.54583818e-02,  9.49119963e-03,  1.11661166e-01, -8.33736733e-02,\n",
       "        9.67730135e-02,  3.25678401e-02, -3.85231040e-02,  4.24312428e-02,\n",
       "        3.77786942e-02, -1.43298497e-02, -7.67670525e-03, -8.52346942e-02,\n",
       "       -5.21085449e-02, -1.04961500e-01, -4.42922637e-02,  3.59176770e-02,\n",
       "       -7.22075552e-02, -5.95526211e-03, -7.36963674e-02, -1.39576457e-02,\n",
       "       -2.73569860e-02, -1.12126423e-02, -1.58186648e-02,  2.47515589e-02,\n",
       "       -1.17709478e-02, -4.24312428e-02,  5.69471940e-02, -8.85845274e-02,\n",
       "        4.59671803e-02,  9.97506455e-02, -1.01983868e-01,  2.40071509e-02,\n",
       "       -6.69967011e-02, -1.97268073e-02, -1.98198576e-02,  7.02534849e-03,\n",
       "       -1.47951050e-02, -6.68803870e-04, -1.95407048e-02, -4.35478538e-02,\n",
       "        1.74935833e-02,  6.77411109e-02, -1.39204249e-01,  3.46614886e-03,\n",
       "        1.35854417e-02,  9.52841938e-02,  2.38210484e-02,  1.24316104e-01,\n",
       "        4.03841212e-02,  1.24316104e-01,  1.98198576e-02,  1.07939132e-01,\n",
       "        8.70026555e-03, -7.33241662e-02, -6.62522912e-02,  1.56325642e-02,\n",
       "       -1.26549322e-02,  4.20590416e-02,  1.28410347e-02,  4.03841212e-02,\n",
       "       -6.62522912e-02, -1.85171440e-02, -5.44348173e-03,  1.74935833e-02,\n",
       "        3.36844511e-02, -6.21580519e-02, -5.91804199e-02,  6.79272087e-03,\n",
       "        6.84855133e-02,  1.22827284e-01, -6.25302568e-02,  7.10909441e-02,\n",
       "        5.13641387e-02, -1.58186648e-02,  1.37715444e-01, -6.40190691e-02,\n",
       "        3.74064930e-02, -4.87587117e-02,  6.81133121e-02, -7.63017982e-02,\n",
       "        4.01980206e-02, -3.12651284e-02,  3.74064930e-02, -5.69471940e-02,\n",
       "        1.87590763e-01, -1.45903930e-01,  4.57810797e-02,  3.21956351e-02,\n",
       "       -9.15621594e-02,  4.48505692e-02,  8.04890878e-03, -1.42367985e-02,\n",
       "       -4.70837913e-02, -1.21338472e-01, -2.75430884e-02, -8.93289372e-02,\n",
       "       -4.31756526e-02, -4.41061631e-02, -4.15007323e-02,  1.50742577e-02,\n",
       "       -8.03960413e-02,  1.12405576e-01, -3.65225063e-03, -2.67986804e-02,\n",
       "       -5.91804199e-02,  1.87590763e-01, -6.81133121e-02,  4.76420969e-02,\n",
       "       -3.10790259e-02,  8.56068954e-02, -2.77291909e-02,  3.21956351e-02,\n",
       "       -1.44229010e-02,  9.81396952e-05, -1.02728277e-01,  6.77411109e-02,\n",
       "       -8.00238363e-03, -2.00990103e-02,  6.84855133e-02,  2.01920606e-02,\n",
       "        1.26549322e-02,  4.91309129e-02,  3.32948024e-04, -3.05207185e-02,\n",
       "       -9.00733396e-02,  3.39636044e-03,  2.28905398e-02,  5.28529510e-02,\n",
       "       -4.48505692e-02,  4.11285311e-02,  7.55573884e-02,  4.83865058e-03,\n",
       "        4.87587117e-02, -5.28529510e-02,  1.21896779e-02, -1.00029800e-02,\n",
       "        6.14136420e-02, -4.76420969e-02, -5.88082150e-02, -6.73689023e-02,\n",
       "        4.18729372e-02, -2.79152915e-02,  1.45159522e-02,  1.55395130e-02,\n",
       "       -6.83924649e-03, -3.31494084e-04, -6.17858469e-02, -2.71708835e-02,\n",
       "        1.34923914e-02, -8.00238363e-03,  1.28410347e-02,  8.74679163e-02,\n",
       "       -5.91804199e-02, -4.91309129e-02, -7.55573884e-02,  1.42181888e-01,\n",
       "       -6.32746592e-02, -6.66244999e-02,  1.27479834e-02, -1.40739593e-03,\n",
       "       -4.44783643e-02, -4.35013277e-03,  7.25797564e-02,  1.99129079e-02,\n",
       "        5.95526211e-03, -1.38645954e-02, -5.65749928e-02,  5.28529510e-02,\n",
       "       -1.54464617e-02, -4.13146317e-02, -1.48881553e-02, -1.34737805e-01,\n",
       "        4.37339582e-02,  2.15180381e-03, -7.48129860e-02,  6.25302568e-02,\n",
       "        3.85231040e-02,  2.88458019e-02,  3.18234339e-02, -3.38705555e-02,\n",
       "        9.11899507e-02, -4.28034477e-02, -6.32746592e-02, -3.83369997e-02,\n",
       "        6.29024580e-02,  6.40190691e-02, -4.22451422e-02,  1.10730659e-02,\n",
       "       -1.30271362e-02, -1.35854417e-02, -5.65749928e-02,  1.10172354e-01,\n",
       "        8.30014646e-02, -3.23817395e-02,  7.44407773e-02, -1.69352777e-02,\n",
       "        4.98753227e-02,  1.60047673e-02, -1.90754491e-03, -3.83369997e-02,\n",
       "        2.25183349e-02,  8.63513052e-02,  3.83369997e-02, -3.72203887e-02,\n",
       "        4.42922637e-02, -1.19105242e-01, -6.36468679e-02,  4.80143018e-02,\n",
       "       -2.49376614e-02, -9.11899507e-02,  9.97506455e-02, -1.42367985e-02,\n",
       "       -8.11404511e-02, -5.35973608e-02, -1.49812065e-02,  8.11404511e-02,\n",
       "       -2.56820694e-02,  2.97763105e-02, -3.72203887e-02,  2.97763105e-02,\n",
       "        9.04455483e-02,  1.20035755e-02, -2.15878263e-02, -8.11404511e-02,\n",
       "        2.10295208e-02,  2.47515589e-02,  2.99624130e-02,  6.73689023e-02,\n",
       "       -7.03465343e-02,  9.90062356e-02, -1.38645954e-02,  1.04217090e-01,\n",
       "        3.44288610e-02,  2.26113871e-02, -4.76420969e-02,  1.72144305e-02,\n",
       "        1.74935833e-02,  3.03346179e-02,  2.43793558e-02,  6.99743330e-02,\n",
       "        6.69967011e-02, -4.91309129e-02, -8.56068917e-03, -6.40190691e-02,\n",
       "        9.95645393e-03,  3.29400450e-02,  1.64700225e-02,  1.47951050e-02,\n",
       "        7.85350204e-02, -4.46644686e-02, -9.52841938e-02,  7.18353540e-02,\n",
       "       -1.87962968e-02, -3.40566561e-02, -9.81687754e-03,  6.17858469e-02,\n",
       "        3.68481837e-02, -7.66739994e-02,  1.25618810e-02,  1.31201874e-02,\n",
       "        1.02821328e-02, -2.25183349e-02, -3.04741948e-03, -9.81687754e-03,\n",
       "       -6.47634789e-02,  5.28529510e-02,  4.72698957e-02, -8.46763887e-03],\n",
       "      dtype=float32)"
      ]
     },
     "execution_count": 64,
     "metadata": {},
     "output_type": "execute_result"
    }
   ],
   "source": [
    "### obtain vector for a specific word\n",
    "wv['unhappy']"
   ]
  },
  {
   "cell_type": "markdown",
   "metadata": {},
   "source": [
    "Other fun operations you can do with word2vec model"
   ]
  },
  {
   "cell_type": "code",
   "execution_count": 65,
   "metadata": {},
   "outputs": [
    {
     "data": {
      "text/plain": [
       "[('queen', 0.7118192315101624),\n",
       " ('monarch', 0.6189674735069275),\n",
       " ('princess', 0.5902431607246399),\n",
       " ('crown_prince', 0.5499460697174072),\n",
       " ('prince', 0.5377321243286133),\n",
       " ('kings', 0.5236844420433044),\n",
       " ('Queen_Consort', 0.5235946178436279),\n",
       " ('queens', 0.5181134343147278),\n",
       " ('sultan', 0.5098593235015869),\n",
       " ('monarchy', 0.5087411403656006)]"
      ]
     },
     "execution_count": 65,
     "metadata": {},
     "output_type": "execute_result"
    }
   ],
   "source": [
    "wv.most_similar(positive=['woman', 'king'], negative=['man'])"
   ]
  },
  {
   "cell_type": "code",
   "execution_count": 66,
   "metadata": {},
   "outputs": [
    {
     "data": {
      "text/plain": [
       "[('Republican', 0.571267306804657),\n",
       " ('Republicans', 0.5465080738067627),\n",
       " ('Donald_Trump', 0.5382609367370605),\n",
       " ('Gingrich', 0.5238125324249268),\n",
       " ('Palin', 0.5126574635505676),\n",
       " ('Santorum', 0.4977916479110718),\n",
       " ('Dems', 0.49728357791900635),\n",
       " ('Democratic', 0.49602845311164856),\n",
       " ('GOPers', 0.4934150278568268),\n",
       " ('Democrats', 0.4912266731262207)]"
      ]
     },
     "execution_count": 66,
     "metadata": {},
     "output_type": "execute_result"
    }
   ],
   "source": [
    "wv.most_similar(positive=['GOP', 'Trump'], negative=['money'])"
   ]
  },
  {
   "cell_type": "code",
   "execution_count": null,
   "metadata": {},
   "outputs": [],
   "source": [
    "## TRY SOME IDEA"
   ]
  },
  {
   "cell_type": "markdown",
   "metadata": {},
   "source": [
    "**Exercise:** Try to research mode about the intuition behind these operations and try to come up with more interesting ones."
   ]
  },
  {
   "cell_type": "markdown",
   "metadata": {},
   "source": [
    "For fun, let us try to manually compute the cosine similarity of some of our word vectors, which is computed as follows:\n",
    "\n",
    "![alt txt](https://docs.google.com/drawings/d/1QI_5_uxopOYgk2PzU_RMTUGKkoNhJp81aIz4SUwsHIM/pub?w=956&h=263)"
   ]
  },
  {
   "cell_type": "code",
   "execution_count": 67,
   "metadata": {},
   "outputs": [
    {
     "data": {
      "text/plain": [
       "0.7692407558643691"
      ]
     },
     "execution_count": 67,
     "metadata": {},
     "output_type": "execute_result"
    }
   ],
   "source": [
    "word_embeddings.cosine_measure(wv['gun'], wv['pistol'])"
   ]
  },
  {
   "cell_type": "markdown",
   "metadata": {},
   "source": [
    "**Exercise:** Try to find cosine similarity between emotion related words. "
   ]
  },
  {
   "cell_type": "code",
   "execution_count": null,
   "metadata": {},
   "outputs": [],
   "source": [
    "####"
   ]
  },
  {
   "cell_type": "markdown",
   "metadata": {},
   "source": [
    "---"
   ]
  },
  {
   "cell_type": "markdown",
   "metadata": {},
   "source": [
    "### KNN Classification\n",
    "\n",
    "Now we train a KNN and a logistic regression classifier and observe how they perfom on these word-averaging document features\n",
    "\n",
    "Read about KNN- https://en.wikipedia.org/wiki/K-nearest_neighbors_algorithm\n",
    "\n",
    "![alt txt](https://docs.google.com/drawings/d/13xu1RP3pVem277_eT900af7iz_MvTQUrLoxzWAewb_o/pub?w=817&h=614)"
   ]
  },
  {
   "cell_type": "code",
   "execution_count": 68,
   "metadata": {},
   "outputs": [
    {
     "data": {
      "text/plain": [
       "KNeighborsClassifier(algorithm='brute', leaf_size=30, metric='cosine',\n",
       "           metric_params=None, n_jobs=-1, n_neighbors=3, p=2,\n",
       "           weights='uniform')"
      ]
     },
     "execution_count": 68,
     "metadata": {},
     "output_type": "execute_result"
    }
   ],
   "source": [
    "### train model\n",
    "knn_naive_dv = KNeighborsClassifier(n_neighbors=3, n_jobs=-1, algorithm='brute', metric='cosine' )\n",
    "knn_naive_dv.fit(X_train_word_average, train_data.emotion)"
   ]
  },
  {
   "cell_type": "code",
   "execution_count": 69,
   "metadata": {},
   "outputs": [],
   "source": [
    "### obtain predictions on test data\n",
    "predicted = knn_naive_dv.predict(X_test_word_average)"
   ]
  },
  {
   "cell_type": "code",
   "execution_count": 70,
   "metadata": {},
   "outputs": [
    {
     "name": "stdout",
     "output_type": "stream",
     "text": [
      "accuracy 0.39481268011527376\n",
      "             precision    recall  f1-score   support\n",
      "\n",
      "    sadness       0.38      0.24      0.30        74\n",
      "       fear       0.45      0.47      0.46       110\n",
      "        joy       0.47      0.37      0.41        79\n",
      "      anger       0.31      0.45      0.37        84\n",
      "\n",
      "avg / total       0.40      0.39      0.39       347\n",
      "\n",
      "(row=expected, col=predicted)\n"
     ]
    },
    {
     "data": {
      "image/png": "[encoded data removed]",
      "text/plain": [
       "<matplotlib.figure.Figure at 0x7f33239cf550>"
      ]
     },
     "metadata": {},
     "output_type": "display_data"
    }
   ],
   "source": [
    "### evaluate the model\n",
    "word_embeddings.evaluate_prediction(predicted, test_data.emotion, my_tags)"
   ]
  },
  {
   "cell_type": "markdown",
   "metadata": {},
   "source": [
    "You can see that K-Neareset Neighbour doesn't perform well when using the average vector representations (obtained from pretrained word2vec) of the text data. This is partly because the pretrained word2vec may not be helping with the task at hand. What if we train our own word2vec using our dataset? (We need a lot of data!)"
   ]
  },
  {
   "cell_type": "code",
   "execution_count": 74,
   "metadata": {},
   "outputs": [
    {
     "data": {
      "text/plain": [
       "'incredible that anthony weiner has been caught chasing a busty milkmaid across a park at double speed while jaunty music plays'"
      ]
     },
     "execution_count": 74,
     "metadata": {},
     "output_type": "execute_result"
    }
   ],
   "source": [
    "test_data.iloc()[56]['text']"
   ]
  },
  {
   "cell_type": "code",
   "execution_count": 75,
   "metadata": {},
   "outputs": [
    {
     "data": {
      "text/plain": [
       "[('just', 0.5738069415092468),\n",
       " ('but', 0.4927141070365906),\n",
       " ('anyway', 0.48917579650878906),\n",
       " ('then', 0.4796845316886902),\n",
       " ('really', 0.47954824566841125),\n",
       " ('actually', 0.4737807810306549),\n",
       " ('By_TBT_staff', 0.4705744981765747),\n",
       " ('around', 0.4660603404045105),\n",
       " ('so', 0.45868638157844543),\n",
       " ('crazy', 0.45673203468322754),\n",
       " ('You_EIG', 0.45534127950668335),\n",
       " (\"'ve\", 0.45004165172576904),\n",
       " ('By_Anonymous_##-##-##', 0.4481762647628784),\n",
       " ('maybe', 0.44582027196884155),\n",
       " ('like', 0.4442966878414154),\n",
       " ('when', 0.4438467025756836),\n",
       " ('that', 0.4435027539730072),\n",
       " ('always', 0.44124850630760193),\n",
       " ('loves', 0.43922510743141174),\n",
       " ('got', 0.4383433163166046)]"
      ]
     },
     "execution_count": 75,
     "metadata": {},
     "output_type": "execute_result"
    }
   ],
   "source": [
    "wv.most_similar(positive=[X_test_word_average[56]], restrict_vocab=100000, topn=30)[0:20]"
   ]
  },
  {
   "cell_type": "markdown",
   "metadata": {},
   "source": [
    "The problem with the result is that the average of this particular document falls under some area that is not related to the overall emotion portrayed by the original document."
   ]
  },
  {
   "cell_type": "markdown",
   "metadata": {},
   "source": [
    "**Exercise:** Try to remove stopwords. Try to figure out how you would achieve this using the current implementation of the *w2v_tokenize_text* function. Also, report the accuracy you achieved."
   ]
  },
  {
   "cell_type": "code",
   "execution_count": null,
   "metadata": {},
   "outputs": [],
   "source": []
  },
  {
   "cell_type": "markdown",
   "metadata": {},
   "source": [
    "**Exercise:** Head on over to the Gensim website and figure out how to train a wordvec on your own using the gensim library. "
   ]
  },
  {
   "cell_type": "code",
   "execution_count": null,
   "metadata": {},
   "outputs": [],
   "source": []
  },
  {
   "cell_type": "markdown",
   "metadata": {},
   "source": [
    "---"
   ]
  },
  {
   "cell_type": "markdown",
   "metadata": {},
   "source": [
    "### Doc2Vec\n",
    "Paper: https://cs.stanford.edu/~quocle/paragraph_vector.pdf\n",
    "It is a **semi-supervised** approach since a **weak label or tag** (you can put many) is introduced into training documents before modeling. Read more about semi-supervised appraoches here: https://en.wikipedia.org/wiki/Semi-supervised_learning"
   ]
  },
  {
   "cell_type": "markdown",
   "metadata": {},
   "source": [
    "![alt txt](https://docs.google.com/drawings/d/1TT6jNhk8rVoWMQajb8AIXCtyug0t_YVVZrvFidDPUPU/pub?w=679&h=375)"
   ]
  },
  {
   "cell_type": "code",
   "execution_count": 67,
   "metadata": {},
   "outputs": [],
   "source": [
    "from gensim.models import Doc2Vec\n",
    "from gensim.models.doc2vec import TaggedDocument"
   ]
  },
  {
   "cell_type": "code",
   "execution_count": 70,
   "metadata": {},
   "outputs": [],
   "source": [
    "### First we tag each text with its emotion\n",
    "train_tagged = train_data.apply(\n",
    "    lambda r: TaggedDocument(words=word_embeddings.tokenize_text(r['text']), tags=[r.emotion]), axis=1)"
   ]
  },
  {
   "cell_type": "code",
   "execution_count": 71,
   "metadata": {},
   "outputs": [],
   "source": [
    "test_tagged = test_data.apply(\n",
    "    lambda r: TaggedDocument(words=word_embeddings.tokenize_text(r['text']), tags=[r.emotion]), axis=1)"
   ]
  },
  {
   "cell_type": "code",
   "execution_count": 72,
   "metadata": {},
   "outputs": [
    {
     "data": {
      "text/plain": [
       "TaggedDocument(words=['chutneysupercat', 'hi', 'lovely', 'brownie', 'mm', 'is', 'calling', 'me', 'tuppytupperware..', 'its', 'awful'], tags=['fear'])"
      ]
     },
     "execution_count": 72,
     "metadata": {},
     "output_type": "execute_result"
    }
   ],
   "source": [
    "test_tagged.values[50]"
   ]
  },
  {
   "cell_type": "code",
   "execution_count": 73,
   "metadata": {},
   "outputs": [],
   "source": [
    "# transform into proper format\n",
    "trainsent = train_tagged.values\n",
    "testsent = test_tagged.values"
   ]
  },
  {
   "cell_type": "code",
   "execution_count": 75,
   "metadata": {},
   "outputs": [
    {
     "data": {
      "text/plain": [
       "array([ TaggedDocument(words=['recording', 'some', 'more', 'fnaf', 'and', 'had', 'to', 'facetime', 'my', 'mum', 'to', 'let', 'her', 'know', 'was', 'okay', 'after', 'let', 'out', 'high', 'pitched', 'scream', 'suchagirl'], tags=['fear']),\n",
       "       TaggedDocument(words=['darwinwatersons', 'pennyfitzger31', 'gumballwatter15', 'ok', 'but', 'why', 'tomorrow', 'horrible', 'day', 'my', 'day', 'was', 'great'], tags=['fear']),\n",
       "       TaggedDocument(words=['budget', 'car', 'rental', 'you', 'have', 'made', 'realize', 'why', 'always', 'use', 'nationalcares', 'what', 'nightmare', 'disgusted'], tags=['fear']),\n",
       "       ...,\n",
       "       TaggedDocument(words=['lennyabrahamson', 'may', 'send', 'you', 'copy', 'of', 'herothegreyhound', 'either', 'e-book', 'or', 'real', 'paper', 'one', 'boy', 'and', 'greyhound', 'smiles', 'tears'], tags=['joy']),\n",
       "       TaggedDocument(words=['regret', 'for', 'the', 'things', 'we', 'did', 'can', 'be', 'tempered', 'by', 'time', 'it', 'is', 'regret', 'for', 'the', 'things', 'we', 'did', 'not', 'do', 'that', 'is', 'inconsolable', 'sydney', 'j.', 'harris'], tags=['sadness']),\n",
       "       TaggedDocument(words=['sami_3499', 'oh', 'noooo', 'nomorehammocks', 'nightmare'], tags=['fear'])], dtype=object)"
      ]
     },
     "execution_count": 75,
     "metadata": {},
     "output_type": "execute_result"
    }
   ],
   "source": [
    "trainsent"
   ]
  },
  {
   "cell_type": "code",
   "execution_count": 76,
   "metadata": {},
   "outputs": [
    {
     "name": "stderr",
     "output_type": "stream",
     "text": [
      "2017-11-19 23:12:39,197 : WARNING : consider setting layer size to a multiple of 4 for greater performance\n",
      "2017-11-19 23:12:39,198 : INFO : collecting all words and their counts\n",
      "2017-11-19 23:12:39,198 : INFO : PROGRESS: at example #0, processed 0 words (0/s), 0 word types, 0 tags\n",
      "2017-11-19 23:12:39,219 : INFO : collected 10719 word types and 4 unique tags from a corpus of 3613 examples and 56393 words\n",
      "2017-11-19 23:12:39,220 : INFO : Loading a fresh vocabulary\n",
      "2017-11-19 23:12:39,225 : INFO : min_count=5 retains 1361 unique words (12% of original 10719, drops 9358)\n",
      "2017-11-19 23:12:39,225 : INFO : min_count=5 leaves 42365 word corpus (75% of original 56393, drops 14028)\n",
      "2017-11-19 23:12:39,228 : INFO : deleting the raw counts dictionary of 10719 items\n",
      "2017-11-19 23:12:39,229 : INFO : sample=0.001 downsamples 63 most-common words\n",
      "2017-11-19 23:12:39,230 : INFO : downsampling leaves estimated 31357 word corpus (74.0% of prior 42365)\n",
      "2017-11-19 23:12:39,230 : INFO : estimated required memory for 1361 words and 5 dimensions: 735820 bytes\n",
      "2017-11-19 23:12:39,233 : INFO : resetting layer weights\n",
      "2017-11-19 23:12:39,246 : INFO : training model with 1 workers on 1361 vocabulary and 5 features, using sg=0 hs=0 sample=0.001 negative=5 window=5\n",
      "2017-11-19 23:12:40,261 : INFO : PROGRESS: at 65.57% examples, 452991 words/s, in_qsize 2, out_qsize 0\n",
      "2017-11-19 23:12:40,791 : INFO : worker thread finished; awaiting finish of 0 more threads\n",
      "2017-11-19 23:12:40,791 : INFO : training on 1127860 raw words (699604 effective words) took 1.5s, 453417 effective words/s\n"
     ]
    }
   ],
   "source": [
    "# train the model with simple gensim doc2vec api\n",
    "# size (dimensions of features)\n",
    "# dm is the training algorithm (distribute memory (1) or distributed bag of words)\n",
    "doc2vec_model = Doc2Vec(trainsent, workers=1, size=5, iter=20, dm=1)\n",
    "\n",
    "train_targets, train_regressors = zip(\n",
    "    *[(doc.tags[0], doc2vec_model.infer_vector(doc.words, steps=20)) for doc in trainsent])"
   ]
  },
  {
   "cell_type": "code",
   "execution_count": 77,
   "metadata": {},
   "outputs": [],
   "source": [
    "test_targets, test_regressors = zip(\n",
    "    *[(doc.tags[0], doc2vec_model.infer_vector(doc.words, steps=20)) for doc in testsent])"
   ]
  },
  {
   "cell_type": "markdown",
   "metadata": {},
   "source": [
    "Let us see what our data looks like after training and transormations"
   ]
  },
  {
   "cell_type": "code",
   "execution_count": 79,
   "metadata": {},
   "outputs": [
    {
     "data": {
      "text/plain": [
       "('fear', 'anger', 'sadness', 'joy', 'fear')"
      ]
     },
     "execution_count": 79,
     "metadata": {},
     "output_type": "execute_result"
    }
   ],
   "source": [
    "test_targets[0:5]"
   ]
  },
  {
   "cell_type": "code",
   "execution_count": 80,
   "metadata": {},
   "outputs": [
    {
     "data": {
      "text/plain": [
       "(array([-0.39524838, -0.08373364, -0.14480482,  0.27350155,  0.20739011], dtype=float32),\n",
       " array([-0.37708506, -0.2205207 ,  0.30018979,  0.21298207, -0.10291009], dtype=float32),\n",
       " array([-0.10260689,  0.04069313,  0.1139339 ,  0.16602848, -0.02557355], dtype=float32),\n",
       " array([-0.4432691 ,  0.125214  , -0.04396084,  0.25234041,  0.12425233], dtype=float32),\n",
       " array([ 0.09505802,  0.09512238, -0.03159134,  0.17345698,  0.09683908], dtype=float32))"
      ]
     },
     "execution_count": 80,
     "metadata": {},
     "output_type": "execute_result"
    }
   ],
   "source": [
    "test_regressors[0:5]"
   ]
  },
  {
   "cell_type": "code",
   "execution_count": 82,
   "metadata": {},
   "outputs": [],
   "source": [
    "# train a logistic regression model\n",
    "d2v_model = linear_model.LogisticRegression(n_jobs=1, C=1e5)\n",
    "d2v_model = d2v_model.fit(train_regressors, train_targets)"
   ]
  },
  {
   "cell_type": "code",
   "execution_count": 83,
   "metadata": {},
   "outputs": [
    {
     "name": "stdout",
     "output_type": "stream",
     "text": [
      "accuracy 0.590778097983\n",
      "confusion matrix\n",
      " [[40 25  9 10]\n",
      " [15 77 11  7]\n",
      " [ 6 14 50  9]\n",
      " [10 16 10 38]]\n",
      "(row=expected, col=predicted)\n"
     ]
    },
    {
     "data": {
      "image/png": "[encoded data removed]",
      "text/plain": [
       "<matplotlib.figure.Figure at 0x7fec141ce2e8>"
      ]
     },
     "metadata": {},
     "output_type": "display_data"
    }
   ],
   "source": [
    "word_embeddings.evaluate_prediction(d2v_model.predict(test_regressors), test_targets, my_tags,title=str(doc2vec_model))"
   ]
  },
  {
   "cell_type": "markdown",
   "metadata": {},
   "source": [
    "Now let us train KNN model with doc2vec."
   ]
  },
  {
   "cell_type": "code",
   "execution_count": 85,
   "metadata": {},
   "outputs": [
    {
     "name": "stderr",
     "output_type": "stream",
     "text": [
      "2017-11-19 23:15:05,294 : INFO : precomputing L2-norms of doc weight vectors\n"
     ]
    },
    {
     "name": "stdout",
     "output_type": "stream",
     "text": [
      "accuracy 0.590778097983\n",
      "confusion matrix\n",
      " [[38 18 15 13]\n",
      " [14 72 15  9]\n",
      " [ 6 10 54  9]\n",
      " [ 6 11 16 41]]\n",
      "(row=expected, col=predicted)\n"
     ]
    },
    {
     "data": {
      "image/png": "[encoded data removed]",
      "text/plain": [
       "<matplotlib.figure.Figure at 0x7fed0b417eb8>"
      ]
     },
     "metadata": {},
     "output_type": "display_data"
    }
   ],
   "source": [
    "knn_test_predictions = [\n",
    "    doc2vec_model.docvecs.most_similar([pred_vec], topn=1)[0][0]\n",
    "    for pred_vec in test_regressors\n",
    "]\n",
    "word_embeddings.evaluate_prediction(knn_test_predictions, test_targets,my_tags, str(doc2vec_model))"
   ]
  },
  {
   "cell_type": "markdown",
   "metadata": {},
   "source": [
    "Since doc2vec also gives us a vector for each genre, we can also observe which genres are similar to each other"
   ]
  },
  {
   "cell_type": "code",
   "execution_count": 86,
   "metadata": {},
   "outputs": [
    {
     "data": {
      "text/plain": [
       "[('sadness', 0.2729802429676056),\n",
       " ('fear', 0.247198224067688),\n",
       " ('joy', 0.2352927327156067)]"
      ]
     },
     "execution_count": 86,
     "metadata": {},
     "output_type": "execute_result"
    }
   ],
   "source": [
    "doc2vec_model.docvecs.most_similar('anger')"
   ]
  },
  {
   "cell_type": "code",
   "execution_count": 87,
   "metadata": {},
   "outputs": [
    {
     "data": {
      "text/plain": [
       "[('sadness', 0.3019334375858307),\n",
       " ('anger', 0.2471982091665268),\n",
       " ('joy', 0.23824873566627502)]"
      ]
     },
     "execution_count": 87,
     "metadata": {},
     "output_type": "execute_result"
    }
   ],
   "source": [
    "doc2vec_model.docvecs.most_similar('fear')"
   ]
  },
  {
   "cell_type": "markdown",
   "metadata": {},
   "source": [
    "Since words and categories fall in the same vector space, it is possible to also observe which words sorround a tag. Notice how well those words describe the tag."
   ]
  },
  {
   "cell_type": "code",
   "execution_count": 89,
   "metadata": {},
   "outputs": [
    {
     "data": {
      "text/plain": [
       "[('strength', 0.9957280158996582),\n",
       " ('gloomy', 0.978492021560669),\n",
       " ('beautiful', 0.9719856977462769),\n",
       " ('present', 0.9529615640640259),\n",
       " ('lol', 0.9487402439117432),\n",
       " ('thenicebot', 0.948267936706543),\n",
       " ('letting', 0.9436185359954834),\n",
       " ('haunt', 0.9382511377334595),\n",
       " ('accept', 0.9362047910690308),\n",
       " ('chirp', 0.9357328414916992)]"
      ]
     },
     "execution_count": 89,
     "metadata": {},
     "output_type": "execute_result"
    }
   ],
   "source": [
    "doc2vec_model.most_similar([doc2vec_model.docvecs['joy']])"
   ]
  },
  {
   "cell_type": "markdown",
   "metadata": {},
   "source": [
    "### Visualization\n",
    "We will visualize embeddings using a popular algorithm called T-SNE, which is very similar to the dimentionality reduction algorithm called PCA."
   ]
  },
  {
   "cell_type": "code",
   "execution_count": 90,
   "metadata": {},
   "outputs": [
    {
     "name": "stdout",
     "output_type": "stream",
     "text": [
      "Populating the interactive namespace from numpy and matplotlib\n"
     ]
    }
   ],
   "source": [
    "%pylab inline\n",
    "pylab.rcParams['figure.figsize'] = (15, 10)"
   ]
  },
  {
   "cell_type": "code",
   "execution_count": 92,
   "metadata": {},
   "outputs": [],
   "source": [
    "### unpacking words from the dco2vec model trained\n",
    "doc2vec_words = word2vec_helpers.unpack_words_from_doc_vector(doc2vec_model)"
   ]
  },
  {
   "cell_type": "code",
   "execution_count": 93,
   "metadata": {},
   "outputs": [
    {
     "data": {
      "image/png": "[encoded data removed]",
      "text/plain": [
       "<matplotlib.figure.Figure at 0x7fec14993358>"
      ]
     },
     "metadata": {},
     "output_type": "display_data"
    }
   ],
   "source": [
    "word2vec_helpers.visualize_vectors(doc2vec_model, doc2vec_words)"
   ]
  },
  {
   "cell_type": "markdown",
   "metadata": {},
   "source": [
    "**Exercise:** Try to visualize words and find interesting clusters. There are so many creative ways to visualize these powerful vector representations. You can also try other type of classifiers and apply other improvements in the preprocessing stages."
   ]
  },
  {
   "cell_type": "code",
   "execution_count": null,
   "metadata": {},
   "outputs": [],
   "source": []
  }
 ],
 "metadata": {
  "kernelspec": {
   "display_name": "Python 3",
   "language": "python",
   "name": "python3"
  },
  "language_info": {
   "codemirror_mode": {
    "name": "ipython",
    "version": 3
   },
   "file_extension": ".py",
   "mimetype": "text/x-python",
   "name": "python",
   "nbconvert_exporter": "python",
   "pygments_lexer": "ipython3",
   "version": "3.6.4"
  }
 },
 "nbformat": 4,
 "nbformat_minor": 2
}
